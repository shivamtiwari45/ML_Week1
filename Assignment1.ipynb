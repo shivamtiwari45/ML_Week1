{
  "nbformat": 4,
  "nbformat_minor": 0,
  "metadata": {
    "colab": {
      "provenance": [],
      "authorship_tag": "ABX9TyOmEKAVh0xB4Zq0Hv04RwJz",
      "include_colab_link": true
    },
    "kernelspec": {
      "name": "python3",
      "display_name": "Python 3"
    },
    "language_info": {
      "name": "python"
    }
  },
  "cells": [
    {
      "cell_type": "markdown",
      "metadata": {
        "id": "view-in-github",
        "colab_type": "text"
      },
      "source": [
        "<a href=\"https://colab.research.google.com/github/shivamtiwari45/ML_Week1/blob/Day01/Assignment1.ipynb\" target=\"_parent\"><img src=\"https://colab.research.google.com/assets/colab-badge.svg\" alt=\"Open In Colab\"/></a>"
      ]
    },
    {
      "cell_type": "code",
      "execution_count": null,
      "metadata": {
        "colab": {
          "base_uri": "https://localhost:8080/"
        },
        "id": "1GPWlvz28ZoC",
        "outputId": "e92f2315-3d30-40e9-fc00-3e9d920d3db4"
      },
      "outputs": [
        {
          "output_type": "stream",
          "name": "stdout",
          "text": [
            "Name: Shivam Tiwari\n",
            "Age: 19\n",
            "Location: Bhopal\n",
            "Interest: sleeping\n",
            "\n",
            "Hi! I'm Shivam Tiwari, 19 years old from Bhopal. I love sleeping!\n"
          ]
        }
      ],
      "source": [
        "# About Me Program\n",
        "name = input(\"Name: \")\n",
        "age = input(\"Age: \")\n",
        "location = input(\"Location: \")\n",
        "interest = input(\"Interest: \")\n",
        "\n",
        "print(f\"\\nHi! I'm {name}, {age} years old from {location}. I love {interest}!\")\n"
      ]
    },
    {
      "cell_type": "code",
      "source": [
        "# Grocery Bill Calculator with 18% GST\n",
        "items = int(input(\"Number of items: \"))\n",
        "total = 0\n",
        "\n",
        "for i in range(items):\n",
        "    price = float(input(f\"Price of item {i+1}: ₹\"))\n",
        "    qty = int(input(f\"Quantity of item {i+1}: \"))\n",
        "    total += price * qty\n",
        "\n",
        "gst = total * 0.18\n",
        "print(f\"\\nSubtotal: ₹{total:.2f}\")\n",
        "print(f\"GST (18%): ₹{gst:.2f}\")\n",
        "print(f\"Total Bill: ₹{total + gst:.2f}\")"
      ],
      "metadata": {
        "colab": {
          "base_uri": "https://localhost:8080/"
        },
        "id": "d71maQUT9hb4",
        "outputId": "bde94933-3af0-44ca-eefc-09f9dc71dfa1"
      },
      "execution_count": null,
      "outputs": [
        {
          "output_type": "stream",
          "name": "stdout",
          "text": [
            "Number of items: 1\n",
            "Price of item 1: ₹500\n",
            "Quantity of item 1: 2\n",
            "\n",
            "Subtotal: ₹1000.00\n",
            "GST (18%): ₹180.00\n",
            "Total Bill: ₹1180.00\n"
          ]
        }
      ]
    },
    {
      "cell_type": "code",
      "source": [
        "# Grading System\n",
        "marks = float(input(\"Enter marks (0-100): \"))\n",
        "\n",
        "if marks >= 90:\n",
        "    grade = \"A\"\n",
        "elif marks >= 75:\n",
        "    grade = \"B\"\n",
        "elif marks >= 60:\n",
        "    grade = \"C\"\n",
        "elif marks >= 40:\n",
        "    grade = \"D\"\n",
        "else:\n",
        "    grade = \"Fail\"\n",
        "\n",
        "print(f\"Grade: {grade}\")"
      ],
      "metadata": {
        "colab": {
          "base_uri": "https://localhost:8080/"
        },
        "id": "QAggyyID-KYX",
        "outputId": "da2206ca-438a-4d46-c67e-4c81f11e2427"
      },
      "execution_count": null,
      "outputs": [
        {
          "output_type": "stream",
          "name": "stdout",
          "text": [
            "Enter marks (0-100): 70\n",
            "Grade: C\n"
          ]
        }
      ]
    },
    {
      "cell_type": "code",
      "source": [
        "# Temperature Tracker\n",
        "temperatures = []\n",
        "\n",
        "print(\"Enter temperatures for 5 days:\")\n",
        "for day in range(1, 6):\n",
        "    temp = float(input(f\"Day {day} temperature: \"))\n",
        "    temperatures.append(temp)\n",
        "\n",
        "average = sum(temperatures) / len(temperatures)\n",
        "print(f\"\\nTemperatures: {temperatures}\")\n",
        "print(f\"Average temperature: {average:.1f}°C\")"
      ],
      "metadata": {
        "colab": {
          "base_uri": "https://localhost:8080/"
        },
        "id": "6S9sTVnO-rUc",
        "outputId": "cffa4afa-3a3a-4ba9-a5e5-dce63e10a359"
      },
      "execution_count": null,
      "outputs": [
        {
          "output_type": "stream",
          "name": "stdout",
          "text": [
            "Enter temperatures for 5 days:\n",
            "Day 1 temperature: 22\n",
            "Day 2 temperature: 25\n",
            "Day 3 temperature: 30\n",
            "Day 4 temperature: 35\n",
            "Day 5 temperature: 40\n",
            "\n",
            "Temperatures: [22.0, 25.0, 30.0, 35.0, 40.0]\n",
            "Average temperature: 30.4°C\n"
          ]
        }
      ]
    },
    {
      "cell_type": "code",
      "source": [
        "# Number Guessing Game (5 attempts)\n",
        "import random\n",
        "\n",
        "secret = random.randint(1, 100)\n",
        "attempts = 5\n",
        "\n",
        "print(\"Guess the secret number (1-100)! You have 5 attempts.\")\n",
        "\n",
        "for attempt in range(1, attempts + 1):\n",
        "    while True:\n",
        "        try:\n",
        "            guess = int(input(f\"Attempt {attempt}/{attempts}: \"))\n",
        "            if 1 <= guess <= 100:\n",
        "                break\n",
        "            print(\"Please enter a number between 1-100!\")\n",
        "        except ValueError:\n",
        "            print(\"Invalid input! Numbers only.\")\n",
        "            continue  # Skip to next iteration if input is invalid\n",
        "\n",
        "    if guess == secret:\n",
        "        print(f\"🎉 Correct! The number was {secret}.\")\n",
        "        break  # Exit early if correct\n",
        "    elif guess < secret:\n",
        "        print(\"Too low! ↑\")\n",
        "    else:\n",
        "        print(\"Too high! ↓\")\n",
        "else:  # This runs if loop completes without breaking\n",
        "    print(f\"❌ Game over! The number was {secret}.\")"
      ],
      "metadata": {
        "colab": {
          "base_uri": "https://localhost:8080/"
        },
        "id": "9cuGi1k7-yj8",
        "outputId": "74c60fd6-4464-437f-af8c-5610c7b4a187"
      },
      "execution_count": null,
      "outputs": [
        {
          "output_type": "stream",
          "name": "stdout",
          "text": [
            "Guess the secret number (1-100)! You have 5 attempts.\n",
            "Attempt 1/5: 50\n",
            "Too low! ↑\n",
            "Attempt 2/5: 25\n",
            "Too low! ↑\n",
            "Attempt 3/5: 75\n",
            "Too high! ↓\n",
            "Attempt 4/5: 63\n",
            "Too low! ↑\n",
            "Attempt 5/5: 70\n",
            "Too low! ↑\n",
            "❌ Game over! The number was 74.\n"
          ]
        }
      ]
    },
    {
      "cell_type": "code",
      "source": [],
      "metadata": {
        "id": "EmmoZ1DWGj9x"
      },
      "execution_count": null,
      "outputs": []
    }
  ]
}