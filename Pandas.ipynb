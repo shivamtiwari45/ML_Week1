{
  "nbformat": 4,
  "nbformat_minor": 0,
  "metadata": {
    "colab": {
      "provenance": [],
      "authorship_tag": "ABX9TyOptVIE0T52KCm/T+KaJ5Fm",
      "include_colab_link": true
    },
    "kernelspec": {
      "name": "python3",
      "display_name": "Python 3"
    },
    "language_info": {
      "name": "python"
    }
  },
  "cells": [
    {
      "cell_type": "markdown",
      "metadata": {
        "id": "view-in-github",
        "colab_type": "text"
      },
      "source": [
        "<a href=\"https://colab.research.google.com/github/shivamtiwari45/ML_Week1/blob/Assignment_Pandas/Pandas.ipynb\" target=\"_parent\"><img src=\"https://colab.research.google.com/assets/colab-badge.svg\" alt=\"Open In Colab\"/></a>"
      ]
    },
    {
      "cell_type": "code",
      "execution_count": 1,
      "metadata": {
        "colab": {
          "base_uri": "https://localhost:8080/"
        },
        "id": "N-2Pzhee1fpO",
        "outputId": "96499ae6-7c41-4304-8f73-b7d46f5580a1"
      },
      "outputs": [
        {
          "output_type": "stream",
          "name": "stdout",
          "text": [
            "    Name  Age Gender  Marks Department\n",
            "0  Alice   23      F     85        CSE\n",
            "1    Bob   25      M     58        ECE\n",
            "2  Carol   22      F     90        CSE\n",
            "3   Dave   24      M     45         ME\n",
            "4    Eva   21      F     76        ECE\n",
            "5  Frank   26      M     67        CSE\n",
            "6  Grace   23      F     92        CSE\n"
          ]
        }
      ],
      "source": [
        "import pandas as pd\n",
        "\n",
        "data = {\n",
        "    'Name': ['Alice', 'Bob', 'Carol', 'Dave', 'Eva', 'Frank', 'Grace'],\n",
        "    'Age': [23, 25, 22, 24, 21, 26, 23],\n",
        "    'Gender': ['F', 'M', 'F', 'M', 'F', 'M', 'F'],\n",
        "    'Marks': [85, 58, 90, 45, 76, 67, 92],\n",
        "    'Department': ['CSE', 'ECE', 'CSE', 'ME', 'ECE', 'CSE', 'CSE']\n",
        "}\n",
        "\n",
        "df = pd.DataFrame(data)\n",
        "print(df)"
      ]
    },
    {
      "cell_type": "code",
      "source": [
        "df.shape"
      ],
      "metadata": {
        "colab": {
          "base_uri": "https://localhost:8080/"
        },
        "id": "NjunqXqm1sUL",
        "outputId": "24c78a7d-42bc-41a4-f36c-b8d22f14d499"
      },
      "execution_count": 2,
      "outputs": [
        {
          "output_type": "execute_result",
          "data": {
            "text/plain": [
              "(7, 5)"
            ]
          },
          "metadata": {},
          "execution_count": 2
        }
      ]
    },
    {
      "cell_type": "code",
      "source": [
        "df.info()"
      ],
      "metadata": {
        "colab": {
          "base_uri": "https://localhost:8080/"
        },
        "id": "5kT_ZmM01vha",
        "outputId": "eb509b57-5a75-4a97-860c-ddd567ea308a"
      },
      "execution_count": 3,
      "outputs": [
        {
          "output_type": "stream",
          "name": "stdout",
          "text": [
            "<class 'pandas.core.frame.DataFrame'>\n",
            "RangeIndex: 7 entries, 0 to 6\n",
            "Data columns (total 5 columns):\n",
            " #   Column      Non-Null Count  Dtype \n",
            "---  ------      --------------  ----- \n",
            " 0   Name        7 non-null      object\n",
            " 1   Age         7 non-null      int64 \n",
            " 2   Gender      7 non-null      object\n",
            " 3   Marks       7 non-null      int64 \n",
            " 4   Department  7 non-null      object\n",
            "dtypes: int64(2), object(3)\n",
            "memory usage: 412.0+ bytes\n"
          ]
        }
      ]
    },
    {
      "cell_type": "code",
      "source": [
        "df.describe()"
      ],
      "metadata": {
        "colab": {
          "base_uri": "https://localhost:8080/",
          "height": 300
        },
        "id": "XMxMf50910U1",
        "outputId": "84e29a94-03b3-4b35-fb47-dadd52fcc618"
      },
      "execution_count": 4,
      "outputs": [
        {
          "output_type": "execute_result",
          "data": {
            "text/plain": [
              "             Age      Marks\n",
              "count   7.000000   7.000000\n",
              "mean   23.428571  73.285714\n",
              "std     1.718249  17.547215\n",
              "min    21.000000  45.000000\n",
              "25%    22.500000  62.500000\n",
              "50%    23.000000  76.000000\n",
              "75%    24.500000  87.500000\n",
              "max    26.000000  92.000000"
            ],
            "text/html": [
              "\n",
              "  <div id=\"df-2434e7ac-cc52-4a66-ad2f-24f0d3ee2066\" class=\"colab-df-container\">\n",
              "    <div>\n",
              "<style scoped>\n",
              "    .dataframe tbody tr th:only-of-type {\n",
              "        vertical-align: middle;\n",
              "    }\n",
              "\n",
              "    .dataframe tbody tr th {\n",
              "        vertical-align: top;\n",
              "    }\n",
              "\n",
              "    .dataframe thead th {\n",
              "        text-align: right;\n",
              "    }\n",
              "</style>\n",
              "<table border=\"1\" class=\"dataframe\">\n",
              "  <thead>\n",
              "    <tr style=\"text-align: right;\">\n",
              "      <th></th>\n",
              "      <th>Age</th>\n",
              "      <th>Marks</th>\n",
              "    </tr>\n",
              "  </thead>\n",
              "  <tbody>\n",
              "    <tr>\n",
              "      <th>count</th>\n",
              "      <td>7.000000</td>\n",
              "      <td>7.000000</td>\n",
              "    </tr>\n",
              "    <tr>\n",
              "      <th>mean</th>\n",
              "      <td>23.428571</td>\n",
              "      <td>73.285714</td>\n",
              "    </tr>\n",
              "    <tr>\n",
              "      <th>std</th>\n",
              "      <td>1.718249</td>\n",
              "      <td>17.547215</td>\n",
              "    </tr>\n",
              "    <tr>\n",
              "      <th>min</th>\n",
              "      <td>21.000000</td>\n",
              "      <td>45.000000</td>\n",
              "    </tr>\n",
              "    <tr>\n",
              "      <th>25%</th>\n",
              "      <td>22.500000</td>\n",
              "      <td>62.500000</td>\n",
              "    </tr>\n",
              "    <tr>\n",
              "      <th>50%</th>\n",
              "      <td>23.000000</td>\n",
              "      <td>76.000000</td>\n",
              "    </tr>\n",
              "    <tr>\n",
              "      <th>75%</th>\n",
              "      <td>24.500000</td>\n",
              "      <td>87.500000</td>\n",
              "    </tr>\n",
              "    <tr>\n",
              "      <th>max</th>\n",
              "      <td>26.000000</td>\n",
              "      <td>92.000000</td>\n",
              "    </tr>\n",
              "  </tbody>\n",
              "</table>\n",
              "</div>\n",
              "    <div class=\"colab-df-buttons\">\n",
              "\n",
              "  <div class=\"colab-df-container\">\n",
              "    <button class=\"colab-df-convert\" onclick=\"convertToInteractive('df-2434e7ac-cc52-4a66-ad2f-24f0d3ee2066')\"\n",
              "            title=\"Convert this dataframe to an interactive table.\"\n",
              "            style=\"display:none;\">\n",
              "\n",
              "  <svg xmlns=\"http://www.w3.org/2000/svg\" height=\"24px\" viewBox=\"0 -960 960 960\">\n",
              "    <path d=\"M120-120v-720h720v720H120Zm60-500h600v-160H180v160Zm220 220h160v-160H400v160Zm0 220h160v-160H400v160ZM180-400h160v-160H180v160Zm440 0h160v-160H620v160ZM180-180h160v-160H180v160Zm440 0h160v-160H620v160Z\"/>\n",
              "  </svg>\n",
              "    </button>\n",
              "\n",
              "  <style>\n",
              "    .colab-df-container {\n",
              "      display:flex;\n",
              "      gap: 12px;\n",
              "    }\n",
              "\n",
              "    .colab-df-convert {\n",
              "      background-color: #E8F0FE;\n",
              "      border: none;\n",
              "      border-radius: 50%;\n",
              "      cursor: pointer;\n",
              "      display: none;\n",
              "      fill: #1967D2;\n",
              "      height: 32px;\n",
              "      padding: 0 0 0 0;\n",
              "      width: 32px;\n",
              "    }\n",
              "\n",
              "    .colab-df-convert:hover {\n",
              "      background-color: #E2EBFA;\n",
              "      box-shadow: 0px 1px 2px rgba(60, 64, 67, 0.3), 0px 1px 3px 1px rgba(60, 64, 67, 0.15);\n",
              "      fill: #174EA6;\n",
              "    }\n",
              "\n",
              "    .colab-df-buttons div {\n",
              "      margin-bottom: 4px;\n",
              "    }\n",
              "\n",
              "    [theme=dark] .colab-df-convert {\n",
              "      background-color: #3B4455;\n",
              "      fill: #D2E3FC;\n",
              "    }\n",
              "\n",
              "    [theme=dark] .colab-df-convert:hover {\n",
              "      background-color: #434B5C;\n",
              "      box-shadow: 0px 1px 3px 1px rgba(0, 0, 0, 0.15);\n",
              "      filter: drop-shadow(0px 1px 2px rgba(0, 0, 0, 0.3));\n",
              "      fill: #FFFFFF;\n",
              "    }\n",
              "  </style>\n",
              "\n",
              "    <script>\n",
              "      const buttonEl =\n",
              "        document.querySelector('#df-2434e7ac-cc52-4a66-ad2f-24f0d3ee2066 button.colab-df-convert');\n",
              "      buttonEl.style.display =\n",
              "        google.colab.kernel.accessAllowed ? 'block' : 'none';\n",
              "\n",
              "      async function convertToInteractive(key) {\n",
              "        const element = document.querySelector('#df-2434e7ac-cc52-4a66-ad2f-24f0d3ee2066');\n",
              "        const dataTable =\n",
              "          await google.colab.kernel.invokeFunction('convertToInteractive',\n",
              "                                                    [key], {});\n",
              "        if (!dataTable) return;\n",
              "\n",
              "        const docLinkHtml = 'Like what you see? Visit the ' +\n",
              "          '<a target=\"_blank\" href=https://colab.research.google.com/notebooks/data_table.ipynb>data table notebook</a>'\n",
              "          + ' to learn more about interactive tables.';\n",
              "        element.innerHTML = '';\n",
              "        dataTable['output_type'] = 'display_data';\n",
              "        await google.colab.output.renderOutput(dataTable, element);\n",
              "        const docLink = document.createElement('div');\n",
              "        docLink.innerHTML = docLinkHtml;\n",
              "        element.appendChild(docLink);\n",
              "      }\n",
              "    </script>\n",
              "  </div>\n",
              "\n",
              "\n",
              "    <div id=\"df-bd91285f-b77a-4098-8572-6022f0d2b4d6\">\n",
              "      <button class=\"colab-df-quickchart\" onclick=\"quickchart('df-bd91285f-b77a-4098-8572-6022f0d2b4d6')\"\n",
              "                title=\"Suggest charts\"\n",
              "                style=\"display:none;\">\n",
              "\n",
              "<svg xmlns=\"http://www.w3.org/2000/svg\" height=\"24px\"viewBox=\"0 0 24 24\"\n",
              "     width=\"24px\">\n",
              "    <g>\n",
              "        <path d=\"M19 3H5c-1.1 0-2 .9-2 2v14c0 1.1.9 2 2 2h14c1.1 0 2-.9 2-2V5c0-1.1-.9-2-2-2zM9 17H7v-7h2v7zm4 0h-2V7h2v10zm4 0h-2v-4h2v4z\"/>\n",
              "    </g>\n",
              "</svg>\n",
              "      </button>\n",
              "\n",
              "<style>\n",
              "  .colab-df-quickchart {\n",
              "      --bg-color: #E8F0FE;\n",
              "      --fill-color: #1967D2;\n",
              "      --hover-bg-color: #E2EBFA;\n",
              "      --hover-fill-color: #174EA6;\n",
              "      --disabled-fill-color: #AAA;\n",
              "      --disabled-bg-color: #DDD;\n",
              "  }\n",
              "\n",
              "  [theme=dark] .colab-df-quickchart {\n",
              "      --bg-color: #3B4455;\n",
              "      --fill-color: #D2E3FC;\n",
              "      --hover-bg-color: #434B5C;\n",
              "      --hover-fill-color: #FFFFFF;\n",
              "      --disabled-bg-color: #3B4455;\n",
              "      --disabled-fill-color: #666;\n",
              "  }\n",
              "\n",
              "  .colab-df-quickchart {\n",
              "    background-color: var(--bg-color);\n",
              "    border: none;\n",
              "    border-radius: 50%;\n",
              "    cursor: pointer;\n",
              "    display: none;\n",
              "    fill: var(--fill-color);\n",
              "    height: 32px;\n",
              "    padding: 0;\n",
              "    width: 32px;\n",
              "  }\n",
              "\n",
              "  .colab-df-quickchart:hover {\n",
              "    background-color: var(--hover-bg-color);\n",
              "    box-shadow: 0 1px 2px rgba(60, 64, 67, 0.3), 0 1px 3px 1px rgba(60, 64, 67, 0.15);\n",
              "    fill: var(--button-hover-fill-color);\n",
              "  }\n",
              "\n",
              "  .colab-df-quickchart-complete:disabled,\n",
              "  .colab-df-quickchart-complete:disabled:hover {\n",
              "    background-color: var(--disabled-bg-color);\n",
              "    fill: var(--disabled-fill-color);\n",
              "    box-shadow: none;\n",
              "  }\n",
              "\n",
              "  .colab-df-spinner {\n",
              "    border: 2px solid var(--fill-color);\n",
              "    border-color: transparent;\n",
              "    border-bottom-color: var(--fill-color);\n",
              "    animation:\n",
              "      spin 1s steps(1) infinite;\n",
              "  }\n",
              "\n",
              "  @keyframes spin {\n",
              "    0% {\n",
              "      border-color: transparent;\n",
              "      border-bottom-color: var(--fill-color);\n",
              "      border-left-color: var(--fill-color);\n",
              "    }\n",
              "    20% {\n",
              "      border-color: transparent;\n",
              "      border-left-color: var(--fill-color);\n",
              "      border-top-color: var(--fill-color);\n",
              "    }\n",
              "    30% {\n",
              "      border-color: transparent;\n",
              "      border-left-color: var(--fill-color);\n",
              "      border-top-color: var(--fill-color);\n",
              "      border-right-color: var(--fill-color);\n",
              "    }\n",
              "    40% {\n",
              "      border-color: transparent;\n",
              "      border-right-color: var(--fill-color);\n",
              "      border-top-color: var(--fill-color);\n",
              "    }\n",
              "    60% {\n",
              "      border-color: transparent;\n",
              "      border-right-color: var(--fill-color);\n",
              "    }\n",
              "    80% {\n",
              "      border-color: transparent;\n",
              "      border-right-color: var(--fill-color);\n",
              "      border-bottom-color: var(--fill-color);\n",
              "    }\n",
              "    90% {\n",
              "      border-color: transparent;\n",
              "      border-bottom-color: var(--fill-color);\n",
              "    }\n",
              "  }\n",
              "</style>\n",
              "\n",
              "      <script>\n",
              "        async function quickchart(key) {\n",
              "          const quickchartButtonEl =\n",
              "            document.querySelector('#' + key + ' button');\n",
              "          quickchartButtonEl.disabled = true;  // To prevent multiple clicks.\n",
              "          quickchartButtonEl.classList.add('colab-df-spinner');\n",
              "          try {\n",
              "            const charts = await google.colab.kernel.invokeFunction(\n",
              "                'suggestCharts', [key], {});\n",
              "          } catch (error) {\n",
              "            console.error('Error during call to suggestCharts:', error);\n",
              "          }\n",
              "          quickchartButtonEl.classList.remove('colab-df-spinner');\n",
              "          quickchartButtonEl.classList.add('colab-df-quickchart-complete');\n",
              "        }\n",
              "        (() => {\n",
              "          let quickchartButtonEl =\n",
              "            document.querySelector('#df-bd91285f-b77a-4098-8572-6022f0d2b4d6 button');\n",
              "          quickchartButtonEl.style.display =\n",
              "            google.colab.kernel.accessAllowed ? 'block' : 'none';\n",
              "        })();\n",
              "      </script>\n",
              "    </div>\n",
              "\n",
              "    </div>\n",
              "  </div>\n"
            ],
            "application/vnd.google.colaboratory.intrinsic+json": {
              "type": "dataframe",
              "summary": "{\n  \"name\": \"df\",\n  \"rows\": 8,\n  \"fields\": [\n    {\n      \"column\": \"Age\",\n      \"properties\": {\n        \"dtype\": \"number\",\n        \"std\": 9.045547999276426,\n        \"min\": 1.7182493859684491,\n        \"max\": 26.0,\n        \"num_unique_values\": 8,\n        \"samples\": [\n          23.428571428571427,\n          23.0,\n          7.0\n        ],\n        \"semantic_type\": \"\",\n        \"description\": \"\"\n      }\n    },\n    {\n      \"column\": \"Marks\",\n      \"properties\": {\n        \"dtype\": \"number\",\n        \"std\": 31.64383728290081,\n        \"min\": 7.0,\n        \"max\": 92.0,\n        \"num_unique_values\": 8,\n        \"samples\": [\n          73.28571428571429,\n          76.0,\n          7.0\n        ],\n        \"semantic_type\": \"\",\n        \"description\": \"\"\n      }\n    }\n  ]\n}"
            }
          },
          "metadata": {},
          "execution_count": 4
        }
      ]
    },
    {
      "cell_type": "code",
      "source": [
        "#Add a new column for pass or fail\n",
        "import numpy as np\n",
        "df[\"Result\"]=np.where(df['Marks'] >=60,'Pass','Fail')\n",
        "print(df)"
      ],
      "metadata": {
        "colab": {
          "base_uri": "https://localhost:8080/"
        },
        "id": "rxEXBbco14U6",
        "outputId": "ebfdc2f6-e771-4d06-e423-35bb5916f47e"
      },
      "execution_count": 5,
      "outputs": [
        {
          "output_type": "stream",
          "name": "stdout",
          "text": [
            "    Name  Age Gender  Marks Department Result\n",
            "0  Alice   23      F     85        CSE   Pass\n",
            "1    Bob   25      M     58        ECE   Fail\n",
            "2  Carol   22      F     90        CSE   Pass\n",
            "3   Dave   24      M     45         ME   Fail\n",
            "4    Eva   21      F     76        ECE   Pass\n",
            "5  Frank   26      M     67        CSE   Pass\n",
            "6  Grace   23      F     92        CSE   Pass\n"
          ]
        }
      ]
    },
    {
      "cell_type": "code",
      "source": [
        "# Add another column  for grade\n",
        "df[\"Grade\"] = np.where(df['Marks'] >= 90, 'A',\n",
        "               np.where((df['Marks'] >= 80) & (df['Marks'] <= 89), 'B',\n",
        "               np.where((df['Marks'] >= 70) & (df['Marks'] <= 79), 'C',\n",
        "               np.where((df['Marks'] >= 60) & (df['Marks'] <= 69), 'D', 'F'))))\n",
        "\n",
        "print(df)"
      ],
      "metadata": {
        "colab": {
          "base_uri": "https://localhost:8080/"
        },
        "id": "6CYTnYnh197X",
        "outputId": "be0cdd29-48c8-4608-972a-a34c379cb029"
      },
      "execution_count": 6,
      "outputs": [
        {
          "output_type": "stream",
          "name": "stdout",
          "text": [
            "    Name  Age Gender  Marks Department Result Grade\n",
            "0  Alice   23      F     85        CSE   Pass     B\n",
            "1    Bob   25      M     58        ECE   Fail     F\n",
            "2  Carol   22      F     90        CSE   Pass     A\n",
            "3   Dave   24      M     45         ME   Fail     F\n",
            "4    Eva   21      F     76        ECE   Pass     C\n",
            "5  Frank   26      M     67        CSE   Pass     D\n",
            "6  Grace   23      F     92        CSE   Pass     A\n"
          ]
        }
      ]
    },
    {
      "cell_type": "code",
      "source": [
        "# Add another column  for grade\n",
        "df[\"Grade\"] = np.where(df['Marks'] >= 90, 'A',\n",
        "               np.where((df['Marks'] >= 80) & (df['Marks'] <= 89), 'B',\n",
        "               np.where((df['Marks'] >= 70) & (df['Marks'] <= 79), 'C',\n",
        "               np.where((df['Marks'] >= 60) & (df['Marks'] <= 69), 'D', 'F'))))\n",
        "\n",
        "print(df)"
      ],
      "metadata": {
        "colab": {
          "base_uri": "https://localhost:8080/"
        },
        "id": "7R-29UDi2DWC",
        "outputId": "fb5e4075-cd6a-41d2-8ffa-9f71d2bd31ff"
      },
      "execution_count": 7,
      "outputs": [
        {
          "output_type": "stream",
          "name": "stdout",
          "text": [
            "    Name  Age Gender  Marks Department Result Grade\n",
            "0  Alice   23      F     85        CSE   Pass     B\n",
            "1    Bob   25      M     58        ECE   Fail     F\n",
            "2  Carol   22      F     90        CSE   Pass     A\n",
            "3   Dave   24      M     45         ME   Fail     F\n",
            "4    Eva   21      F     76        ECE   Pass     C\n",
            "5  Frank   26      M     67        CSE   Pass     D\n",
            "6  Grace   23      F     92        CSE   Pass     A\n"
          ]
        }
      ]
    },
    {
      "cell_type": "code",
      "source": [
        "# Average marks\n",
        "mean_val = df[df[\"Department\"] == \"CSE\"][\"Marks\"].mean()\n",
        "print(mean_val)\n"
      ],
      "metadata": {
        "colab": {
          "base_uri": "https://localhost:8080/"
        },
        "id": "KHF69tRB2IWL",
        "outputId": "708245a3-344f-49bd-e987-c927355ef7f2"
      },
      "execution_count": 8,
      "outputs": [
        {
          "output_type": "stream",
          "name": "stdout",
          "text": [
            "83.5\n"
          ]
        }
      ]
    },
    {
      "cell_type": "code",
      "source": [
        "#Count of students in each dept\n",
        "count_cse = df[df[\"Department\"] == \"CSE\"][\"Name\"].count()\n",
        "count_ece = df[df[\"Department\"] == \"ECE\"][\"Name\"].count()\n",
        "count_me = df[df[\"Department\"] == \"ME\"][\"Name\"].count()\n",
        "print(count_cse,count_ece,count_me)"
      ],
      "metadata": {
        "colab": {
          "base_uri": "https://localhost:8080/"
        },
        "id": "j7AHXcnV2LV6",
        "outputId": "e52d42df-6320-4cb0-97d8-fc65b2406967"
      },
      "execution_count": 9,
      "outputs": [
        {
          "output_type": "stream",
          "name": "stdout",
          "text": [
            "4 2 1\n"
          ]
        }
      ]
    },
    {
      "cell_type": "code",
      "source": [
        "#All female students from CSE who scored above 80.\n",
        "cse_female=df[\n",
        "    (df[\"Department\"] == \"CSE\")&\n",
        "    (df[\"Gender\"] == \"F\")&\n",
        "    (df[\"Marks\"] > 80)\n",
        "    ]\n",
        "\n",
        "print(cse_female)"
      ],
      "metadata": {
        "colab": {
          "base_uri": "https://localhost:8080/"
        },
        "id": "L0fVn8ZB2N1v",
        "outputId": "a6313e2a-7c8b-4cb0-e34f-c0525fac621b"
      },
      "execution_count": 10,
      "outputs": [
        {
          "output_type": "stream",
          "name": "stdout",
          "text": [
            "    Name  Age Gender  Marks Department Result Grade\n",
            "0  Alice   23      F     85        CSE   Pass     B\n",
            "2  Carol   22      F     90        CSE   Pass     A\n",
            "6  Grace   23      F     92        CSE   Pass     A\n"
          ]
        }
      ]
    },
    {
      "cell_type": "code",
      "source": [
        "#All students with grade “A” or “B”.\n",
        "students = df[df[\"Grade\"].isin([\"A\", \"B\"])]\n",
        "print(students)"
      ],
      "metadata": {
        "id": "m2A2RLaS2Qzn"
      },
      "execution_count": null,
      "outputs": []
    }
  ]
}