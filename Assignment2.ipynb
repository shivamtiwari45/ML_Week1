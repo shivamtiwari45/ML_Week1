{
  "nbformat": 4,
  "nbformat_minor": 0,
  "metadata": {
    "colab": {
      "provenance": [],
      "authorship_tag": "ABX9TyNYLrKRlJCCrLmL2CeOEMoE",
      "include_colab_link": true
    },
    "kernelspec": {
      "name": "python3",
      "display_name": "Python 3"
    },
    "language_info": {
      "name": "python"
    }
  },
  "cells": [
    {
      "cell_type": "markdown",
      "metadata": {
        "id": "view-in-github",
        "colab_type": "text"
      },
      "source": [
        "<a href=\"https://colab.research.google.com/github/shivamtiwari45/ML_Week1/blob/Day02/Assignment2.ipynb\" target=\"_parent\"><img src=\"https://colab.research.google.com/assets/colab-badge.svg\" alt=\"Open In Colab\"/></a>"
      ]
    },
    {
      "cell_type": "code",
      "execution_count": null,
      "metadata": {
        "colab": {
          "base_uri": "https://localhost:8080/"
        },
        "id": "HMij8WKLvVj3",
        "outputId": "16c9809f-3e1d-4b5d-e669-ab59507e7d38"
      },
      "outputs": [
        {
          "output_type": "stream",
          "name": "stdout",
          "text": [
            "Student 1: Total = 253, Average = 84.33\n",
            "Student 2: Total = 233, Average = 77.67\n",
            "Student 3: Total = 258, Average = 86.00\n"
          ]
        }
      ],
      "source": [
        "marks = [\n",
        "    [85, 90, 78],  # Student 1\n",
        "    [76, 88, 69],  # Student 2\n",
        "    [92, 81, 85]   # Student 3\n",
        "]\n",
        "\n",
        "for i, student in enumerate(marks, 1):\n",
        "    total = sum(student)\n",
        "    average = total / len(student)\n",
        "    print(f\"Student {i}: Total = {total}, Average = {average:.2f}\")\n"
      ]
    },
    {
      "cell_type": "code",
      "source": [
        "students = [\n",
        "    (101, \"shivam\", 18),\n",
        "    (102, \"rohit\", 19),\n",
        "    (103, \"amit\", 18)\n",
        "]\n",
        "\n",
        "for roll, name, age in students:\n",
        "    print(f\"Roll No: {roll}, Name: {name}, Age: {age}\")\n"
      ],
      "metadata": {
        "colab": {
          "base_uri": "https://localhost:8080/"
        },
        "id": "2RSXM9lNveDj",
        "outputId": "de590726-a7f5-4a3b-bb90-bcc507d65438"
      },
      "execution_count": null,
      "outputs": [
        {
          "output_type": "stream",
          "name": "stdout",
          "text": [
            "Roll No: 101, Name: shivam, Age: 18\n",
            "Roll No: 102, Name: rohit, Age: 19\n",
            "Roll No: 103, Name: amit, Age: 18\n"
          ]
        }
      ]
    },
    {
      "cell_type": "code",
      "source": [
        "students = {\n",
        "    101: \"shivansh\",\n",
        "    102: \"sarthak\",\n",
        "    103: \"rohan\"\n",
        "}\n",
        "\n",
        "def search_name(roll_number):\n",
        "    return students.get(roll_number, \"Student not found\")\n",
        "\n",
        "# Example usage\n",
        "print(search_name(102))  # Output: Bob\n",
        "print(search_name(105))  # Output: Student not found\n"
      ],
      "metadata": {
        "colab": {
          "base_uri": "https://localhost:8080/"
        },
        "id": "DAU42Afav8gI",
        "outputId": "5bf06c41-9af3-4d4e-9393-7733b7aa2ce9"
      },
      "execution_count": null,
      "outputs": [
        {
          "output_type": "stream",
          "name": "stdout",
          "text": [
            "sarthak\n",
            "Student not found\n"
          ]
        }
      ]
    },
    {
      "cell_type": "code",
      "source": [
        "all_students = {\"Shivam\", \"Rohit\", \"Amit\", \"Nikhil\", \"Chirag\"}\n",
        "football = {\"Shivam\", \"Rohit\", \"Chirag\"}\n",
        "cricket = {\"Rohit\", \"Amit\", \"Nikhil\"}\n",
        "\n",
        "both = football & cricket\n",
        "only_one = football ^ cricket\n",
        "none = all_students - (football | cricket)\n",
        "\n",
        "print(\"Both:\", both)\n",
        "print(\"Only one:\", only_one)\n",
        "print(\"None:\", none)\n"
      ],
      "metadata": {
        "id": "y1P50Fdwwsxe",
        "outputId": "2e49fc87-ce27-4dd6-b717-bda128d24434",
        "colab": {
          "base_uri": "https://localhost:8080/"
        }
      },
      "execution_count": null,
      "outputs": [
        {
          "output_type": "stream",
          "name": "stdout",
          "text": [
            "Both: {'Rohit'}\n",
            "Only one: {'Shivam', 'Nikhil', 'Amit', 'Chirag'}\n",
            "None: set()\n"
          ]
        }
      ]
    }
  ]
}